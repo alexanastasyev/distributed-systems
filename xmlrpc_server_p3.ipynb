{
 "cells": [
  {
   "cell_type": "markdown",
   "metadata": {},
   "source": [
    "#### Файл сервера xmlrpc_server_p3.ipynb на Python 3 "
   ]
  },
  {
   "cell_type": "code",
   "execution_count": 1,
   "metadata": {
    "ExecuteTime": {
     "end_time": "2023-10-09T19:51:13.045722Z",
     "start_time": "2023-10-09T19:50:30.380736Z"
    }
   },
   "outputs": [
    {
     "name": "stdout",
     "output_type": "stream",
     "text": [
      "Listening on port 8008...\n"
     ]
    },
    {
     "name": "stderr",
     "output_type": "stream",
     "text": [
      "127.0.0.1 - - [09/Oct/2023 22:50:34] \"POST /RPC2 HTTP/1.1\" 200 -\n",
      "127.0.0.1 - - [09/Oct/2023 22:50:34] \"POST /RPC2 HTTP/1.1\" 200 -\n",
      "127.0.0.1 - - [09/Oct/2023 22:50:34] \"POST /RPC2 HTTP/1.1\" 200 -\n",
      "127.0.0.1 - - [09/Oct/2023 22:50:34] \"POST /RPC2 HTTP/1.1\" 200 -\n",
      "127.0.0.1 - - [09/Oct/2023 22:50:34] \"POST /RPC2 HTTP/1.1\" 200 -\n",
      "127.0.0.1 - - [09/Oct/2023 22:50:34] \"POST /RPC2 HTTP/1.1\" 200 -\n",
      "127.0.0.1 - - [09/Oct/2023 22:50:34] \"POST /RPC2 HTTP/1.1\" 200 -\n",
      "127.0.0.1 - - [09/Oct/2023 22:50:34] \"POST /RPC2 HTTP/1.1\" 200 -\n",
      "127.0.0.1 - - [09/Oct/2023 22:50:34] \"POST /RPC2 HTTP/1.1\" 200 -\n",
      "127.0.0.1 - - [09/Oct/2023 22:50:34] \"POST /RPC2 HTTP/1.1\" 200 -\n",
      "127.0.0.1 - - [09/Oct/2023 22:50:34] \"POST /RPC2 HTTP/1.1\" 200 -\n",
      "127.0.0.1 - - [09/Oct/2023 22:50:34] \"POST /RPC2 HTTP/1.1\" 200 -\n"
     ]
    },
    {
     "name": "stdout",
     "output_type": "stream",
     "text": [
      "Log server is unavailable. Performing IO logging\n",
      "ping\n",
      "Log server is unavailable. Performing IO logging\n",
      "now\n",
      "Log server is unavailable. Performing IO logging\n",
      "type\n",
      "Log server is unavailable. Performing IO logging\n",
      "type\n",
      "Log server is unavailable. Performing IO logging\n",
      "type\n",
      "Log server is unavailable. Performing IO logging\n",
      "type\n",
      "Log server is unavailable. Performing IO logging\n",
      "type\n",
      "Log server is unavailable. Performing IO logging\n",
      "type\n",
      "Log server is unavailable. Performing IO logging\n",
      "type\n",
      "Log server is unavailable. Performing IO logging\n",
      "sum\n",
      "Log server is unavailable. Performing IO logging\n",
      "pow\n"
     ]
    },
    {
     "name": "stderr",
     "output_type": "stream",
     "text": [
      "127.0.0.1 - - [09/Oct/2023 22:50:37] \"POST /RPC2 HTTP/1.1\" 200 -\n"
     ]
    },
    {
     "ename": "KeyboardInterrupt",
     "evalue": "",
     "output_type": "error",
     "traceback": [
      "\u001B[0;31m---------------------------------------------------------------------------\u001B[0m",
      "\u001B[0;31mKeyboardInterrupt\u001B[0m                         Traceback (most recent call last)",
      "Cell \u001B[0;32mIn[1], line 62\u001B[0m\n\u001B[1;32m     58\u001B[0m server\u001B[38;5;241m.\u001B[39mregister_function(test_pow, \u001B[38;5;124m'\u001B[39m\u001B[38;5;124mpow\u001B[39m\u001B[38;5;124m'\u001B[39m)\n\u001B[1;32m     61\u001B[0m \u001B[38;5;28mprint\u001B[39m (\u001B[38;5;124m\"\u001B[39m\u001B[38;5;124mListening on port 8008...\u001B[39m\u001B[38;5;124m\"\u001B[39m)\n\u001B[0;32m---> 62\u001B[0m \u001B[43mserver\u001B[49m\u001B[38;5;241;43m.\u001B[39;49m\u001B[43mserve_forever\u001B[49m\u001B[43m(\u001B[49m\u001B[43m)\u001B[49m\n",
      "File \u001B[0;32m/Library/Developer/CommandLineTools/Library/Frameworks/Python3.framework/Versions/3.9/lib/python3.9/socketserver.py:232\u001B[0m, in \u001B[0;36mBaseServer.serve_forever\u001B[0;34m(self, poll_interval)\u001B[0m\n\u001B[1;32m    229\u001B[0m selector\u001B[38;5;241m.\u001B[39mregister(\u001B[38;5;28mself\u001B[39m, selectors\u001B[38;5;241m.\u001B[39mEVENT_READ)\n\u001B[1;32m    231\u001B[0m \u001B[38;5;28;01mwhile\u001B[39;00m \u001B[38;5;129;01mnot\u001B[39;00m \u001B[38;5;28mself\u001B[39m\u001B[38;5;241m.\u001B[39m__shutdown_request:\n\u001B[0;32m--> 232\u001B[0m     ready \u001B[38;5;241m=\u001B[39m \u001B[43mselector\u001B[49m\u001B[38;5;241;43m.\u001B[39;49m\u001B[43mselect\u001B[49m\u001B[43m(\u001B[49m\u001B[43mpoll_interval\u001B[49m\u001B[43m)\u001B[49m\n\u001B[1;32m    233\u001B[0m     \u001B[38;5;66;03m# bpo-35017: shutdown() called during select(), exit immediately.\u001B[39;00m\n\u001B[1;32m    234\u001B[0m     \u001B[38;5;28;01mif\u001B[39;00m \u001B[38;5;28mself\u001B[39m\u001B[38;5;241m.\u001B[39m__shutdown_request:\n",
      "File \u001B[0;32m/Library/Developer/CommandLineTools/Library/Frameworks/Python3.framework/Versions/3.9/lib/python3.9/selectors.py:416\u001B[0m, in \u001B[0;36m_PollLikeSelector.select\u001B[0;34m(self, timeout)\u001B[0m\n\u001B[1;32m    414\u001B[0m ready \u001B[38;5;241m=\u001B[39m []\n\u001B[1;32m    415\u001B[0m \u001B[38;5;28;01mtry\u001B[39;00m:\n\u001B[0;32m--> 416\u001B[0m     fd_event_list \u001B[38;5;241m=\u001B[39m \u001B[38;5;28;43mself\u001B[39;49m\u001B[38;5;241;43m.\u001B[39;49m\u001B[43m_selector\u001B[49m\u001B[38;5;241;43m.\u001B[39;49m\u001B[43mpoll\u001B[49m\u001B[43m(\u001B[49m\u001B[43mtimeout\u001B[49m\u001B[43m)\u001B[49m\n\u001B[1;32m    417\u001B[0m \u001B[38;5;28;01mexcept\u001B[39;00m \u001B[38;5;167;01mInterruptedError\u001B[39;00m:\n\u001B[1;32m    418\u001B[0m     \u001B[38;5;28;01mreturn\u001B[39;00m ready\n",
      "\u001B[0;31mKeyboardInterrupt\u001B[0m: "
     ]
    }
   ],
   "source": [
    "\n",
    "from xmlrpc.server import SimpleXMLRPCServer\n",
    "from xmlrpc.server import SimpleXMLRPCRequestHandler\n",
    "\n",
    "import xmlrpc.client\n",
    "\n",
    "import datetime\n",
    "\n",
    "\n",
    "class RequestHandler(SimpleXMLRPCRequestHandler):\n",
    "    rpc_paths = ('/RPC2',)\n",
    "\n",
    "server = SimpleXMLRPCServer((\"localhost\", 8008), \n",
    "                            requestHandler=RequestHandler)\n",
    "\n",
    "server.register_introspection_functions()\n",
    "\n",
    "stats_server = xmlrpc.client.ServerProxy(\"http://localhost:8018\")\n",
    "\n",
    "\n",
    "# Добавление в лог через сервер\n",
    "def add_log(log_line):\n",
    "    try:\n",
    "        stats_server.add_log(log_line)\n",
    "        return True\n",
    "    except:\n",
    "        print(\"Log server is unavailable. Performing IO logging\")\n",
    "        print(log_line)\n",
    "        return False\n",
    "\n",
    "# Тест\n",
    "def ping():\n",
    "    add_log('ping')\n",
    "    return True\n",
    "server.register_function(ping, 'ping')\n",
    "\n",
    "# Время сервера\n",
    "def now():\n",
    "    add_log('now')    \n",
    "    return datetime.datetime.now()\n",
    "server.register_function(now, 'now')\n",
    "\n",
    "# Отображение строкового вида, типа и значений\n",
    "def show_type(arg):\n",
    "    add_log('type')\n",
    "    return (str(arg), str(type(arg)), arg)\n",
    "server.register_function(show_type, 'type')\n",
    "\n",
    "# Сумма\n",
    "def test_sum(a, b):\n",
    "    add_log('sum')\n",
    "    return a + b\n",
    "server.register_function(test_sum, 'sum')\n",
    "\n",
    "# Степень\n",
    "def test_pow(a, b):\n",
    "    add_log('pow')\n",
    "    return a**b\n",
    "server.register_function(test_pow, 'pow')\n",
    "\n",
    "\n",
    "print (\"Listening on port 8008...\")\n",
    "server.serve_forever()\n"
   ]
  }
 ],
 "metadata": {
  "kernelspec": {
   "display_name": "Python 3 (ipykernel)",
   "language": "python",
   "name": "python3"
  },
  "language_info": {
   "codemirror_mode": {
    "name": "ipython",
    "version": 3
   },
   "file_extension": ".py",
   "mimetype": "text/x-python",
   "name": "python",
   "nbconvert_exporter": "python",
   "pygments_lexer": "ipython3",
   "version": "3.9.12"
  }
 },
 "nbformat": 4,
 "nbformat_minor": 2
}
