{
 "cells": [
  {
   "cell_type": "code",
   "execution_count": null,
   "id": "initial_id",
   "metadata": {
    "collapsed": true,
    "is_executing": true,
    "ExecuteTime": {
     "start_time": "2023-10-24T19:12:13.402719800Z"
    }
   },
   "outputs": [
    {
     "name": "stdout",
     "output_type": "stream",
     "text": [
      "CREATE TABLE IF NOT EXISTS Stats (eventName TEXT NOT NULL, datetimeStart TEXT NOT NULL, datetimeFinish TEXT NOT NULL)\n",
      "Listening on port 8019...\n",
      "BEGIN \n",
      "INSERT INTO Stats (eventName, datetimeStart, datetimeFinish) VALUES ('ping', '2023-10-24 22:12:23', '2023-10-24 22:12:27')\n",
      "COMMIT\n"
     ]
    },
    {
     "name": "stderr",
     "output_type": "stream",
     "text": [
      "127.0.0.1 - - [24/Oct/2023 22:12:29] \"POST /RPC2 HTTP/1.1\" 200 -\n"
     ]
    },
    {
     "name": "stdout",
     "output_type": "stream",
     "text": [
      "BEGIN \n",
      "INSERT INTO Stats (eventName, datetimeStart, datetimeFinish) VALUES ('now', '2023-10-24 22:12:31', '2023-10-24 22:12:35')\n",
      "COMMIT\n"
     ]
    },
    {
     "name": "stderr",
     "output_type": "stream",
     "text": [
      "127.0.0.1 - - [24/Oct/2023 22:12:37] \"POST /RPC2 HTTP/1.1\" 200 -\n"
     ]
    },
    {
     "name": "stdout",
     "output_type": "stream",
     "text": [
      "BEGIN \n",
      "INSERT INTO Stats (eventName, datetimeStart, datetimeFinish) VALUES ('type', '2023-10-24 22:12:40', '2023-10-24 22:12:44')\n",
      "COMMIT\n"
     ]
    },
    {
     "name": "stderr",
     "output_type": "stream",
     "text": [
      "127.0.0.1 - - [24/Oct/2023 22:12:46] \"POST /RPC2 HTTP/1.1\" 200 -\n"
     ]
    },
    {
     "name": "stdout",
     "output_type": "stream",
     "text": [
      "BEGIN \n",
      "INSERT INTO Stats (eventName, datetimeStart, datetimeFinish) VALUES ('type', '2023-10-24 22:12:48', '2023-10-24 22:12:52')\n",
      "COMMIT\n"
     ]
    },
    {
     "name": "stderr",
     "output_type": "stream",
     "text": [
      "127.0.0.1 - - [24/Oct/2023 22:12:54] \"POST /RPC2 HTTP/1.1\" 200 -\n"
     ]
    },
    {
     "name": "stdout",
     "output_type": "stream",
     "text": [
      "BEGIN \n",
      "INSERT INTO Stats (eventName, datetimeStart, datetimeFinish) VALUES ('type', '2023-10-24 22:12:56', '2023-10-24 22:13:00')\n",
      "COMMIT\n"
     ]
    },
    {
     "name": "stderr",
     "output_type": "stream",
     "text": [
      "127.0.0.1 - - [24/Oct/2023 22:13:02] \"POST /RPC2 HTTP/1.1\" 200 -\n"
     ]
    },
    {
     "name": "stdout",
     "output_type": "stream",
     "text": [
      "BEGIN \n",
      "INSERT INTO Stats (eventName, datetimeStart, datetimeFinish) VALUES ('type', '2023-10-24 22:13:04', '2023-10-24 22:13:08')\n",
      "COMMIT\n"
     ]
    },
    {
     "name": "stderr",
     "output_type": "stream",
     "text": [
      "127.0.0.1 - - [24/Oct/2023 22:13:10] \"POST /RPC2 HTTP/1.1\" 200 -\n"
     ]
    },
    {
     "name": "stdout",
     "output_type": "stream",
     "text": [
      "BEGIN \n",
      "INSERT INTO Stats (eventName, datetimeStart, datetimeFinish) VALUES ('type', '2023-10-24 22:13:12', '2023-10-24 22:13:16')\n",
      "COMMIT\n"
     ]
    },
    {
     "name": "stderr",
     "output_type": "stream",
     "text": [
      "127.0.0.1 - - [24/Oct/2023 22:13:18] \"POST /RPC2 HTTP/1.1\" 200 -\n"
     ]
    },
    {
     "name": "stdout",
     "output_type": "stream",
     "text": [
      "BEGIN \n",
      "INSERT INTO Stats (eventName, datetimeStart, datetimeFinish) VALUES ('type', '2023-10-24 22:13:20', '2023-10-24 22:13:25')\n",
      "COMMIT\n"
     ]
    },
    {
     "name": "stderr",
     "output_type": "stream",
     "text": [
      "127.0.0.1 - - [24/Oct/2023 22:13:27] \"POST /RPC2 HTTP/1.1\" 200 -\n"
     ]
    },
    {
     "name": "stdout",
     "output_type": "stream",
     "text": [
      "BEGIN \n",
      "INSERT INTO Stats (eventName, datetimeStart, datetimeFinish) VALUES ('type', '2023-10-24 22:13:29', '2023-10-24 22:13:33')\n",
      "COMMIT\n"
     ]
    },
    {
     "name": "stderr",
     "output_type": "stream",
     "text": [
      "127.0.0.1 - - [24/Oct/2023 22:13:35] \"POST /RPC2 HTTP/1.1\" 200 -\n"
     ]
    },
    {
     "name": "stdout",
     "output_type": "stream",
     "text": [
      "BEGIN \n",
      "INSERT INTO Stats (eventName, datetimeStart, datetimeFinish) VALUES ('sum', '2023-10-24 22:13:37', '2023-10-24 22:13:41')\n",
      "COMMIT\n"
     ]
    },
    {
     "name": "stderr",
     "output_type": "stream",
     "text": [
      "127.0.0.1 - - [24/Oct/2023 22:13:43] \"POST /RPC2 HTTP/1.1\" 200 -\n"
     ]
    },
    {
     "name": "stdout",
     "output_type": "stream",
     "text": [
      "BEGIN \n",
      "INSERT INTO Stats (eventName, datetimeStart, datetimeFinish) VALUES ('sum', '2023-10-24 22:13:45', '2023-10-24 22:13:49')\n",
      "COMMIT\n"
     ]
    },
    {
     "name": "stderr",
     "output_type": "stream",
     "text": [
      "127.0.0.1 - - [24/Oct/2023 22:13:51] \"POST /RPC2 HTTP/1.1\" 200 -\n"
     ]
    },
    {
     "name": "stdout",
     "output_type": "stream",
     "text": [
      "BEGIN \n",
      "INSERT INTO Stats (eventName, datetimeStart, datetimeFinish) VALUES ('send_back_binary', '2023-10-24 22:13:54', '2023-10-24 22:13:58')\n",
      "COMMIT\n"
     ]
    },
    {
     "name": "stderr",
     "output_type": "stream",
     "text": [
      "127.0.0.1 - - [24/Oct/2023 22:14:00] \"POST /RPC2 HTTP/1.1\" 200 -\n"
     ]
    },
    {
     "name": "stdout",
     "output_type": "stream",
     "text": [
      "BEGIN \n",
      "INSERT INTO Stats (eventName, datetimeStart, datetimeFinish) VALUES ('color_inversion', '2023-10-24 22:14:02', '2023-10-24 22:14:10')\n",
      "COMMIT\n"
     ]
    },
    {
     "name": "stderr",
     "output_type": "stream",
     "text": [
      "127.0.0.1 - - [24/Oct/2023 22:14:12] \"POST /RPC2 HTTP/1.1\" 200 -\n"
     ]
    },
    {
     "name": "stdout",
     "output_type": "stream",
     "text": [
      "BEGIN \n",
      "INSERT INTO Stats (eventName, datetimeStart, datetimeFinish) VALUES ('binary_img', '2023-10-24 22:14:15', '2023-10-24 22:14:22')\n",
      "COMMIT\n"
     ]
    },
    {
     "name": "stderr",
     "output_type": "stream",
     "text": [
      "127.0.0.1 - - [24/Oct/2023 22:14:24] \"POST /RPC2 HTTP/1.1\" 200 -\n"
     ]
    },
    {
     "name": "stdout",
     "output_type": "stream",
     "text": [
      "BEGIN \n",
      "INSERT INTO Stats (eventName, datetimeStart, datetimeFinish) VALUES ('reverse', '2023-10-24 22:14:27', '2023-10-24 22:14:33')\n",
      "COMMIT\n"
     ]
    },
    {
     "name": "stderr",
     "output_type": "stream",
     "text": [
      "127.0.0.1 - - [24/Oct/2023 22:14:35] \"POST /RPC2 HTTP/1.1\" 200 -\n"
     ]
    },
    {
     "name": "stdout",
     "output_type": "stream",
     "text": [
      "BEGIN \n",
      "INSERT INTO Stats (eventName, datetimeStart, datetimeFinish) VALUES ('black_list_check', '2023-10-24 22:14:37', '2023-10-24 22:14:41')\n",
      "COMMIT\n"
     ]
    },
    {
     "name": "stderr",
     "output_type": "stream",
     "text": [
      "127.0.0.1 - - [24/Oct/2023 22:14:43] \"POST /RPC2 HTTP/1.1\" 200 -\n"
     ]
    },
    {
     "name": "stdout",
     "output_type": "stream",
     "text": [
      "BEGIN \n",
      "INSERT INTO Stats (eventName, datetimeStart, datetimeFinish) VALUES ('black_list_check', '2023-10-24 22:14:45', '2023-10-24 22:14:49')\n",
      "COMMIT\n"
     ]
    },
    {
     "name": "stderr",
     "output_type": "stream",
     "text": [
      "127.0.0.1 - - [24/Oct/2023 22:14:51] \"POST /RPC2 HTTP/1.1\" 200 -\n"
     ]
    },
    {
     "name": "stdout",
     "output_type": "stream",
     "text": [
      "BEGIN \n",
      "INSERT INTO Stats (eventName, datetimeStart, datetimeFinish) VALUES ('black_list_check', '2023-10-24 22:14:53', '2023-10-24 22:14:57')\n",
      "COMMIT\n"
     ]
    },
    {
     "name": "stderr",
     "output_type": "stream",
     "text": [
      "127.0.0.1 - - [24/Oct/2023 22:14:59] \"POST /RPC2 HTTP/1.1\" 200 -\n"
     ]
    },
    {
     "name": "stdout",
     "output_type": "stream",
     "text": [
      "SELECT eventName, datetimeStart, datetimeFinish FROM Stats\n"
     ]
    },
    {
     "name": "stderr",
     "output_type": "stream",
     "text": [
      "127.0.0.1 - - [24/Oct/2023 22:15:06] \"POST /RPC2 HTTP/1.1\" 200 -\n"
     ]
    },
    {
     "name": "stdout",
     "output_type": "stream",
     "text": [
      "SELECT eventName, datetimeStart, datetimeFinish FROM Stats WHERE eventName == 'ping'\n"
     ]
    },
    {
     "name": "stderr",
     "output_type": "stream",
     "text": [
      "127.0.0.1 - - [24/Oct/2023 22:15:08] \"POST /RPC2 HTTP/1.1\" 200 -\n"
     ]
    },
    {
     "name": "stdout",
     "output_type": "stream",
     "text": [
      "SELECT eventName, datetimeStart, datetimeFinish FROM Stats WHERE eventName == 'type'\n"
     ]
    },
    {
     "name": "stderr",
     "output_type": "stream",
     "text": [
      "127.0.0.1 - - [24/Oct/2023 22:15:49] \"POST /RPC2 HTTP/1.1\" 200 -\n"
     ]
    },
    {
     "name": "stdout",
     "output_type": "stream",
     "text": [
      "SELECT eventName, datetimeStart, datetimeFinish FROM Stats WHERE eventName == 'type'\n"
     ]
    },
    {
     "name": "stderr",
     "output_type": "stream",
     "text": [
      "127.0.0.1 - - [24/Oct/2023 22:16:12] \"POST /RPC2 HTTP/1.1\" 200 -\n"
     ]
    },
    {
     "name": "stdout",
     "output_type": "stream",
     "text": [
      "SELECT eventName, datetimeStart, datetimeFinish FROM Stats WHERE eventName == 'type'\n"
     ]
    },
    {
     "name": "stderr",
     "output_type": "stream",
     "text": [
      "127.0.0.1 - - [24/Oct/2023 22:16:19] \"POST /RPC2 HTTP/1.1\" 200 -\n"
     ]
    },
    {
     "name": "stdout",
     "output_type": "stream",
     "text": [
      "SELECT eventName, datetimeStart, datetimeFinish FROM Stats WHERE eventName == 'type'\n"
     ]
    },
    {
     "name": "stderr",
     "output_type": "stream",
     "text": [
      "127.0.0.1 - - [24/Oct/2023 22:16:25] \"POST /RPC2 HTTP/1.1\" 200 -\n"
     ]
    },
    {
     "name": "stdout",
     "output_type": "stream",
     "text": [
      "SELECT eventName, datetimeStart, datetimeFinish FROM Stats WHERE eventName == 'type'\n"
     ]
    },
    {
     "name": "stderr",
     "output_type": "stream",
     "text": [
      "127.0.0.1 - - [24/Oct/2023 22:16:31] \"POST /RPC2 HTTP/1.1\" 200 -\n"
     ]
    }
   ],
   "source": [
    "from xmlrpc.server import SimpleXMLRPCServer\n",
    "from xmlrpc.server import SimpleXMLRPCRequestHandler\n",
    "\n",
    "import sqlite3\n",
    "import datetime\n",
    "\n",
    "\n",
    "class RequestHandler(SimpleXMLRPCRequestHandler):\n",
    "    rpc_paths = ('/RPC2',)\n",
    "\n",
    "server = SimpleXMLRPCServer((\"localhost\", 8019), \n",
    "                            requestHandler=RequestHandler)\n",
    "\n",
    "connection = sqlite3.connect('stats_db.db')\n",
    "connection.set_trace_callback(print)\n",
    "cursor = connection.cursor()\n",
    "\n",
    "cursor.execute('CREATE TABLE IF NOT EXISTS Stats (eventName TEXT NOT NULL, datetimeStart TEXT NOT NULL, datetimeFinish TEXT NOT NULL)')\n",
    "connection.commit()\n",
    "\n",
    "\n",
    "def add_event(event_name, date_time_start, date_time_finish):\n",
    "    cursor.execute('INSERT INTO Stats (eventName, datetimeStart, datetimeFinish) VALUES (?, ?, ?)', (event_name, date_time_start, date_time_finish))\n",
    "    connection.commit()\n",
    "server.register_function(add_event, 'add_event')\n",
    "\n",
    "\n",
    "def read_events(event_name, start_from_str, start_to_str, duration_from, duration_to):\n",
    "    start_from = datetime.datetime.strptime(start_from_str, '%Y-%m-%d %H:%M:%S')\n",
    "    start_to = datetime.datetime.strptime(start_to_str, '%Y-%m-%d %H:%M:%S')\n",
    "    response = []\n",
    "    result = cursor.execute('SELECT eventName, datetimeStart, datetimeFinish FROM Stats WHERE eventName == ?', (event_name,))\n",
    "    for row in result.fetchall():\n",
    "        event = row[0]\n",
    "        start = datetime.datetime.strptime(row[1], '%Y-%m-%d %H:%M:%S')\n",
    "        end = datetime.datetime.strptime(row[2], '%Y-%m-%d %H:%M:%S')\n",
    "        duration = (end - start).total_seconds()\n",
    "        if (event == event_name) and (start_from <= start <= start_to) and (duration_from <= duration <= duration_to):\n",
    "            response.append([event, row[1], row[2]])\n",
    "    return response\n",
    "server.register_function(read_events, 'read_events')\n",
    "\n",
    "\n",
    "def read_all_events():\n",
    "    return cursor.execute('SELECT eventName, datetimeStart, datetimeFinish FROM Stats').fetchall()\n",
    "server.register_function(read_all_events, 'read_all_events')\n",
    "\n",
    "\n",
    "print (\"Listening on port 8019...\")\n",
    "server.serve_forever()"
   ]
  },
  {
   "cell_type": "code",
   "execution_count": null,
   "outputs": [],
   "source": [],
   "metadata": {
    "collapsed": false,
    "is_executing": true
   },
   "id": "1e25d38626558636"
  }
 ],
 "metadata": {
  "kernelspec": {
   "display_name": "Python 3",
   "language": "python",
   "name": "python3"
  },
  "language_info": {
   "codemirror_mode": {
    "name": "ipython",
    "version": 2
   },
   "file_extension": ".py",
   "mimetype": "text/x-python",
   "name": "python",
   "nbconvert_exporter": "python",
   "pygments_lexer": "ipython2",
   "version": "2.7.6"
  }
 },
 "nbformat": 4,
 "nbformat_minor": 5
}
