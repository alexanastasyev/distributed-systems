{
 "cells": [
  {
   "cell_type": "markdown",
   "metadata": {},
   "source": [
    "#### Файл сервера xmlrpc_stats_server_p3.ipynb на Python 3 "
   ]
  },
  {
   "cell_type": "code",
   "execution_count": 1,
   "outputs": [],
   "source": [
    "max_log_count = 15\n",
    "log_archiving_enabled = True"
   ],
   "metadata": {
    "collapsed": false,
    "ExecuteTime": {
     "end_time": "2023-10-09T19:51:46.595695Z",
     "start_time": "2023-10-09T19:51:46.593158Z"
    }
   }
  },
  {
   "cell_type": "code",
   "execution_count": null,
   "outputs": [
    {
     "name": "stdout",
     "output_type": "stream",
     "text": [
      "Listening on port 8018...\n"
     ]
    },
    {
     "name": "stderr",
     "output_type": "stream",
     "text": [
      "127.0.0.1 - - [09/Oct/2023 22:56:08] \"POST /RPC2 HTTP/1.1\" 200 -\n"
     ]
    }
   ],
   "source": [
    "\n",
    "from xmlrpc.server import SimpleXMLRPCServer\n",
    "from xmlrpc.server import SimpleXMLRPCRequestHandler\n",
    "\n",
    "import re\n",
    "import os\n",
    "import datetime\n",
    "\n",
    "class RequestHandler(SimpleXMLRPCRequestHandler):\n",
    "    rpc_paths = ('/RPC2',)\n",
    "\n",
    "server = SimpleXMLRPCServer((\"localhost\", 8018), \n",
    "                            requestHandler=RequestHandler)\n",
    "\n",
    "\n",
    "# Добавление строки в лог\n",
    "def add_log(sname):\n",
    "    current_log_count = get_log_lines_count()\n",
    "    if (current_log_count >= max_log_count):\n",
    "        archive_log_file()    \n",
    "    f = open('log.csv','a')\n",
    "    f.write(str(sname)+','+ datetime.datetime.now().strftime(\"%Y-%m-%d %H:%M:%S\") +'\\n')\n",
    "    f.close()\n",
    "    return True\n",
    "server.register_function(add_log, 'add_log')\n",
    "\n",
    "def get_log(start_time = '2000-01-01 00:00:00', end_time = '2100-01-01 00:00:00', operation_type = None):\n",
    "    start_time = datetime.datetime.strptime(start_time, '%Y-%m-%d %H:%M:%S')\n",
    "    end_time = datetime.datetime.strptime(end_time, '%Y-%m-%d %H:%M:%S')\n",
    "    result_logs_lines = []\n",
    "    logs_files = get_logs_files()\n",
    "    for logs_file in logs_files:\n",
    "        file = open(logs_file, 'r')\n",
    "        lines = file.readlines()\n",
    "        for line in lines:\n",
    "            line_tokens = line.split(\",\")\n",
    "            type = line_tokens[0]\n",
    "            time = datetime.datetime.strptime(line_tokens[1].removesuffix(\"\\n\"), '%Y-%m-%d %H:%M:%S')\n",
    "            if time >= start_time and time <= end_time and (operation_type is None or operation_type == type):\n",
    "                result_logs_lines.append(line)\n",
    "    return result_logs_lines\n",
    "server.register_function(get_log, 'get_log')\n",
    "\n",
    "def get_log_lines_count():\n",
    "    f = open('log.csv','r')\n",
    "    count = 0\n",
    "    while (f.readline()):\n",
    "        count += 1\n",
    "    f.close()\n",
    "    return count\n",
    "    \n",
    "def archive_log_file():\n",
    "    old_file = open('log.csv','r')\n",
    "    new_file_name = datetime.datetime.now().strftime(\"%Y%m%d_%H%M%S\") + \"_log.csv\"\n",
    "    new_file = open(new_file_name, 'x')\n",
    "    new_file.writelines(old_file.readlines())\n",
    "    new_file.close()\n",
    "    old_file.close()\n",
    "    old_file = open('log.csv','w')\n",
    "    old_file.truncate(0)\n",
    "    old_file.close()\n",
    "\n",
    "def get_log(start_time, end_time, operation_type):\n",
    "    result_logs_lines = []\n",
    "    logs_files = get_logs_files()\n",
    "    for logs_file in logs_files:\n",
    "        file = open(logs_file, 'r')\n",
    "        lines = file.readlines()\n",
    "        for line in lines:\n",
    "            line_tokens = line.split(\",\")\n",
    "            type = line_tokens[0]\n",
    "            time = line_tokens[1]\n",
    "            print(type)\n",
    "            print(time)\n",
    "\n",
    "def get_logs_files():\n",
    "    rootdir = \".\"\n",
    "    regex = re.compile('(.*csv$)')\n",
    "    result = []\n",
    "    for root, dirs, files in os.walk(rootdir):\n",
    "        for file in files:\n",
    "            if regex.match(file):\n",
    "                result.append(file)\n",
    "    return result\n",
    "\n",
    "\n",
    "print (\"Listening on port 8018...\")\n",
    "server.serve_forever()\n"
   ],
   "metadata": {
    "collapsed": false,
    "is_executing": true,
    "ExecuteTime": {
     "start_time": "2023-10-09T19:55:41.139088Z"
    }
   }
  },
  {
   "cell_type": "code",
   "execution_count": null,
   "outputs": [],
   "source": [],
   "metadata": {
    "collapsed": false
   }
  }
 ],
 "metadata": {
  "kernelspec": {
   "display_name": "Python 3 (ipykernel)",
   "language": "python",
   "name": "python3"
  },
  "language_info": {
   "codemirror_mode": {
    "name": "ipython",
    "version": 3
   },
   "file_extension": ".py",
   "mimetype": "text/x-python",
   "name": "python",
   "nbconvert_exporter": "python",
   "pygments_lexer": "ipython3",
   "version": "3.9.12"
  }
 },
 "nbformat": 4,
 "nbformat_minor": 2
}
