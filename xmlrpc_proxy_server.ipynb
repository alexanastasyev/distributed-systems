{
 "cells": [
  {
   "cell_type": "code",
   "execution_count": null,
   "id": "initial_id",
   "metadata": {
    "collapsed": true,
    "is_executing": true,
    "ExecuteTime": {
     "start_time": "2023-10-24T19:12:13.404717700Z"
    }
   },
   "outputs": [
    {
     "name": "stdout",
     "output_type": "stream",
     "text": [
      "Listening on port 8009...\n"
     ]
    },
    {
     "name": "stderr",
     "output_type": "stream",
     "text": [
      "127.0.0.1 - - [24/Oct/2023 22:12:29] \"POST /RPC2 HTTP/1.1\" 200 -\n",
      "127.0.0.1 - - [24/Oct/2023 22:12:37] \"POST /RPC2 HTTP/1.1\" 200 -\n",
      "127.0.0.1 - - [24/Oct/2023 22:12:46] \"POST /RPC2 HTTP/1.1\" 200 -\n",
      "127.0.0.1 - - [24/Oct/2023 22:12:54] \"POST /RPC2 HTTP/1.1\" 200 -\n",
      "127.0.0.1 - - [24/Oct/2023 22:13:02] \"POST /RPC2 HTTP/1.1\" 200 -\n",
      "127.0.0.1 - - [24/Oct/2023 22:13:10] \"POST /RPC2 HTTP/1.1\" 200 -\n",
      "127.0.0.1 - - [24/Oct/2023 22:13:18] \"POST /RPC2 HTTP/1.1\" 200 -\n",
      "127.0.0.1 - - [24/Oct/2023 22:13:27] \"POST /RPC2 HTTP/1.1\" 200 -\n",
      "127.0.0.1 - - [24/Oct/2023 22:13:35] \"POST /RPC2 HTTP/1.1\" 200 -\n",
      "127.0.0.1 - - [24/Oct/2023 22:13:43] \"POST /RPC2 HTTP/1.1\" 200 -\n",
      "127.0.0.1 - - [24/Oct/2023 22:13:51] \"POST /RPC2 HTTP/1.1\" 200 -\n",
      "127.0.0.1 - - [24/Oct/2023 22:14:00] \"POST /RPC2 HTTP/1.1\" 200 -\n",
      "127.0.0.1 - - [24/Oct/2023 22:14:12] \"POST /RPC2 HTTP/1.1\" 200 -\n",
      "127.0.0.1 - - [24/Oct/2023 22:14:24] \"POST /RPC2 HTTP/1.1\" 200 -\n",
      "127.0.0.1 - - [24/Oct/2023 22:14:35] \"POST /RPC2 HTTP/1.1\" 200 -\n",
      "127.0.0.1 - - [24/Oct/2023 22:14:43] \"POST /RPC2 HTTP/1.1\" 200 -\n",
      "127.0.0.1 - - [24/Oct/2023 22:14:51] \"POST /RPC2 HTTP/1.1\" 200 -\n",
      "127.0.0.1 - - [24/Oct/2023 22:14:59] \"POST /RPC2 HTTP/1.1\" 200 -\n"
     ]
    }
   ],
   "source": [
    "from xmlrpc.server import SimpleXMLRPCServer\n",
    "from xmlrpc.server import SimpleXMLRPCRequestHandler\n",
    "from xmlrpc.client import Binary\n",
    "import xmlrpc.client\n",
    "import datetime\n",
    "\n",
    "class RequestHandler(SimpleXMLRPCRequestHandler):\n",
    "    rpc_paths = ('/RPC2',)\n",
    "\n",
    "server = SimpleXMLRPCServer((\"localhost\", 8009), \n",
    "                            requestHandler=RequestHandler)\n",
    "\n",
    "main_server = xmlrpc.client.ServerProxy(\"http://localhost:8008\")\n",
    "stats2_server = xmlrpc.client.ServerProxy(\"http://localhost:8019\")\n",
    "\n",
    "\n",
    "def add_event(event_name, date_time_start, date_time_finish):\n",
    "    try:\n",
    "        stats2_server.add_event(event_name, date_time_start, date_time_finish)\n",
    "    except:\n",
    "        return False\n",
    "    return True\n",
    "\n",
    "\n",
    "def execute_logging(event_name, action):\n",
    "    start_time = datetime.datetime.now().strftime('%Y-%m-%d %H:%M:%S')\n",
    "    result = action()\n",
    "    end_time = datetime.datetime.now().strftime('%Y-%m-%d %H:%M:%S')\n",
    "    add_event(event_name, start_time, end_time)\n",
    "    return result\n",
    "\n",
    "\n",
    "def ping():\n",
    "    return execute_logging('ping', lambda: main_server.ping())\n",
    "server.register_function(ping, 'ping')\n",
    "\n",
    "\n",
    "def now():\n",
    "    return execute_logging('now', lambda: main_server.now())\n",
    "server.register_function(now, 'now')\n",
    "\n",
    "\n",
    "def show_type(arg):\n",
    "    return execute_logging('type', lambda: main_server.type(arg))\n",
    "server.register_function(show_type, 'type')\n",
    "\n",
    "\n",
    "def test_sum(a, b):\n",
    "    return execute_logging('sum', lambda: main_server.sum(a, b))\n",
    "server.register_function(test_sum, 'sum')\n",
    "\n",
    "\n",
    "def test_pow(a, b):\n",
    "    return execute_logging('pow', lambda: main_server.pow(a, b))\n",
    "server.register_function(test_sum, 'pow')\n",
    "\n",
    "\n",
    "def black_list_check(surname, name, patronym, birthdate):\n",
    "    return execute_logging('black_list_check', lambda: main_server.black_list_check(surname, name, patronym, birthdate))\n",
    "server.register_function(black_list_check, 'black_list_check')\n",
    "\n",
    "\n",
    "def send_back_binary(bin_data):\n",
    "    return execute_logging('send_back_binary', lambda: main_server.send_back_binary(bin_data))\n",
    "server.register_function(send_back_binary, 'send_back_binary')\n",
    "\n",
    "\n",
    "def send_back_inversion(bin_data):\n",
    "    return execute_logging('color_inversion', lambda: main_server.color_inversion(bin_data))\n",
    "server.register_function(send_back_inversion, 'color_inversion')\n",
    "\n",
    "\n",
    "def binary_img(bin_data, border):\n",
    "    return execute_logging('binary_img', lambda: main_server.binary_img(bin_data, border))\n",
    "server.register_function(binary_img, 'binary_img')\n",
    "\n",
    "\n",
    "def reverse(bin_data):\n",
    "    return execute_logging('reverse', lambda: main_server.reverse(bin_data))\n",
    "server.register_function(reverse, 'reverse')\n",
    "\n",
    "\n",
    "print(\"Listening on port 8009...\")\n",
    "server.serve_forever()"
   ]
  },
  {
   "cell_type": "code",
   "execution_count": null,
   "outputs": [],
   "source": [],
   "metadata": {
    "collapsed": false,
    "is_executing": true
   },
   "id": "6d99a490f5bd8cf6"
  },
  {
   "cell_type": "code",
   "execution_count": null,
   "outputs": [],
   "source": [],
   "metadata": {
    "collapsed": false,
    "is_executing": true
   },
   "id": "109d3e529c15c46e"
  },
  {
   "cell_type": "code",
   "execution_count": null,
   "outputs": [],
   "source": [],
   "metadata": {
    "collapsed": false,
    "is_executing": true
   },
   "id": "c1bb28c445127cf6"
  }
 ],
 "metadata": {
  "kernelspec": {
   "display_name": "Python 3",
   "language": "python",
   "name": "python3"
  },
  "language_info": {
   "codemirror_mode": {
    "name": "ipython",
    "version": 2
   },
   "file_extension": ".py",
   "mimetype": "text/x-python",
   "name": "python",
   "nbconvert_exporter": "python",
   "pygments_lexer": "ipython2",
   "version": "2.7.6"
  }
 },
 "nbformat": 4,
 "nbformat_minor": 5
}
