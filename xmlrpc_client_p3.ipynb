{
 "cells": [
  {
   "cell_type": "markdown",
   "metadata": {},
   "source": [
    "#### Файл клиента xmlrpc_client_p3.ipynb на Python 3"
   ]
  },
  {
   "cell_type": "code",
   "execution_count": 1,
   "metadata": {
    "ExecuteTime": {
     "end_time": "2023-10-09T19:50:34.975034Z",
     "start_time": "2023-10-09T19:50:34.951579Z"
    }
   },
   "outputs": [
    {
     "name": "stdout",
     "output_type": "stream",
     "text": [
      "['now', 'ping', 'pow', 'sum', 'system.listMethods', 'system.methodHelp', 'system.methodSignature', 'type']\n",
      "Ping: True\n",
      "Server datetime: 20231009T22:50:34\n",
      "View, type, value: ['2', \"<class 'int'>\", 2]\n",
      "View, type, value: ['2.0', \"<class 'float'>\", 2.0]\n",
      "View, type, value: ['My string', \"<class 'str'>\", 'My string']\n",
      "View, type, value: ['My string', \"<class 'str'>\", 'My string']\n",
      "View, type, value: ['[1, 2, 3]', \"<class 'list'>\", [1, 2, 3]]\n",
      "View, type, value: [\"['one', 'two', 'three']\", \"<class 'list'>\", ['one', 'two', 'three']]\n",
      "View, type, value: [\"[1, 2, '3']\", \"<class 'list'>\", [1, 2, '3']]\n",
      "Sum 2 + 3 : 5\n",
      "Pow 2^3:  8\n"
     ]
    }
   ],
   "source": [
    "# xmlrpc_client.ipynb\n",
    "\n",
    "import xmlrpc.client\n",
    "\n",
    "server = xmlrpc.client.ServerProxy(\"http://localhost:8008\")\n",
    "\n",
    "print(server.system.listMethods())\n",
    "\n",
    "print ('Ping:', server.ping())\n",
    "print ('Server datetime:', server.now())\n",
    "print ('View, type, value:', server.type(2))\n",
    "print ('View, type, value:', server.type(2.))\n",
    "print ('View, type, value:', server.type('My string'))\n",
    "print ('View, type, value:', server.type(\"My string\"))\n",
    "print ('View, type, value:', server.type([1,2,3]))\n",
    "print ('View, type, value:', server.type([\"one\", \"two\", \"three\"]))\n",
    "print ('View, type, value:', server.type((1,2,\"3\")))\n",
    "print ('Sum 2 + 3 :', server.sum(2, 3))\n",
    "print ('Pow 2^3: ', server.pow(2, 3))\n"
   ]
  },
  {
   "cell_type": "code",
   "execution_count": 2,
   "metadata": {
    "ExecuteTime": {
     "end_time": "2023-10-09T19:56:08.517076Z",
     "start_time": "2023-10-09T19:56:08.508009Z"
    }
   },
   "outputs": [
    {
     "name": "stdout",
     "output_type": "stream",
     "text": [
      "log:  ['ping,2023-10-09 21:53:37\\n', 'ping,2023-10-09 21:58:34\\n', 'ping,2023-10-09 22:09:43\\n', 'ping,2023-10-09 22:09:58\\n']\n"
     ]
    }
   ],
   "source": [
    "import xmlrpc.client\n",
    "\n",
    "log_server = xmlrpc.client.ServerProxy(\"http://localhost:8018\")\n",
    "print(\"log: \", log_server.get_log('2023-01-01 00:00:00', '2100-01-01 00:00:00', 'ping'))"
   ]
  },
  {
   "cell_type": "code",
   "execution_count": null,
   "outputs": [],
   "source": [],
   "metadata": {
    "collapsed": false
   }
  }
 ],
 "metadata": {
  "kernelspec": {
   "display_name": "Python 3 (ipykernel)",
   "language": "python",
   "name": "python3"
  },
  "language_info": {
   "codemirror_mode": {
    "name": "ipython",
    "version": 3
   },
   "file_extension": ".py",
   "mimetype": "text/x-python",
   "name": "python",
   "nbconvert_exporter": "python",
   "pygments_lexer": "ipython3",
   "version": "3.9.12"
  }
 },
 "nbformat": 4,
 "nbformat_minor": 2
}
