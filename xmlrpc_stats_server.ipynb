{
 "cells": [
  {
   "cell_type": "markdown",
   "metadata": {},
   "source": [
    "#### Файл сервера xmlrpc_stats_server_p3.ipynb на Python 3 "
   ]
  },
  {
   "cell_type": "code",
   "execution_count": null,
   "metadata": {
    "is_executing": true,
    "ExecuteTime": {
     "start_time": "2023-10-24T19:12:13.964479500Z"
    }
   },
   "outputs": [
    {
     "name": "stdout",
     "output_type": "stream",
     "text": [
      "Listening on port 8018...\n"
     ]
    },
    {
     "name": "stderr",
     "output_type": "stream",
     "text": [
      "127.0.0.1 - - [24/Oct/2023 22:12:27] \"POST /RPC2 HTTP/1.1\" 200 -\n",
      "127.0.0.1 - - [24/Oct/2023 22:12:35] \"POST /RPC2 HTTP/1.1\" 200 -\n",
      "127.0.0.1 - - [24/Oct/2023 22:12:44] \"POST /RPC2 HTTP/1.1\" 200 -\n",
      "127.0.0.1 - - [24/Oct/2023 22:12:52] \"POST /RPC2 HTTP/1.1\" 200 -\n",
      "127.0.0.1 - - [24/Oct/2023 22:13:00] \"POST /RPC2 HTTP/1.1\" 200 -\n",
      "127.0.0.1 - - [24/Oct/2023 22:13:08] \"POST /RPC2 HTTP/1.1\" 200 -\n",
      "127.0.0.1 - - [24/Oct/2023 22:13:16] \"POST /RPC2 HTTP/1.1\" 200 -\n",
      "127.0.0.1 - - [24/Oct/2023 22:13:25] \"POST /RPC2 HTTP/1.1\" 200 -\n",
      "127.0.0.1 - - [24/Oct/2023 22:13:33] \"POST /RPC2 HTTP/1.1\" 200 -\n",
      "127.0.0.1 - - [24/Oct/2023 22:13:41] \"POST /RPC2 HTTP/1.1\" 200 -\n",
      "127.0.0.1 - - [24/Oct/2023 22:13:49] \"POST /RPC2 HTTP/1.1\" 200 -\n",
      "127.0.0.1 - - [24/Oct/2023 22:13:58] \"POST /RPC2 HTTP/1.1\" 200 -\n",
      "127.0.0.1 - - [24/Oct/2023 22:14:07] \"POST /RPC2 HTTP/1.1\" 200 -\n",
      "127.0.0.1 - - [24/Oct/2023 22:14:19] \"POST /RPC2 HTTP/1.1\" 200 -\n",
      "127.0.0.1 - - [24/Oct/2023 22:14:31] \"POST /RPC2 HTTP/1.1\" 200 -\n",
      "127.0.0.1 - - [24/Oct/2023 22:14:41] \"POST /RPC2 HTTP/1.1\" 200 -\n",
      "127.0.0.1 - - [24/Oct/2023 22:14:49] \"POST /RPC2 HTTP/1.1\" 200 -\n",
      "127.0.0.1 - - [24/Oct/2023 22:14:57] \"POST /RPC2 HTTP/1.1\" 200 -\n"
     ]
    },
    {
     "name": "stdout",
     "output_type": "stream",
     "text": [
      "20230101\n"
     ]
    },
    {
     "name": "stderr",
     "output_type": "stream",
     "text": [
      "127.0.0.1 - - [24/Oct/2023 22:15:02] \"POST /RPC2 HTTP/1.1\" 200 -\n"
     ]
    },
    {
     "name": "stdout",
     "output_type": "stream",
     "text": [
      "20230101\n"
     ]
    },
    {
     "name": "stderr",
     "output_type": "stream",
     "text": [
      "127.0.0.1 - - [24/Oct/2023 22:15:04] \"POST /RPC2 HTTP/1.1\" 200 -\n"
     ]
    }
   ],
   "source": [
    "from xmlrpc.server import SimpleXMLRPCServer\n",
    "from xmlrpc.server import SimpleXMLRPCRequestHandler\n",
    "\n",
    "import datetime\n",
    "import os\n",
    "\n",
    "\n",
    "class RequestHandler(SimpleXMLRPCRequestHandler):\n",
    "    rpc_paths = ('/RPC2',)\n",
    "\n",
    "server = SimpleXMLRPCServer((\"localhost\", 8018), \n",
    "                            requestHandler=RequestHandler)\n",
    "\n",
    "\n",
    "LOG_FILENAME = 'log.csv'\n",
    "ARCHIVE_FOLDER = 'archive'\n",
    "LOG_RECORDS_LIMIT = 10\n",
    "\n",
    "current_records = 0\n",
    "\n",
    "\n",
    "# Добавление строки в лог\n",
    "def add_log(sname):\n",
    "    global current_records\n",
    "    if current_records < LOG_RECORDS_LIMIT:\n",
    "        append_to_log(LOG_FILENAME, create_log_row(sname))\n",
    "        current_records += 1\n",
    "    else:\n",
    "        save_file_to_archive(LOG_FILENAME, ARCHIVE_FOLDER, datetime.datetime.now().strftime(\"%Y%m%d_%H%M%S\") + '_log.csv')\n",
    "        create_file(LOG_FILENAME)\n",
    "        append_to_log(LOG_FILENAME, create_log_row(sname))\n",
    "        current_records = 1\n",
    "server.register_function(add_log, 'add_log')\n",
    "\n",
    "\n",
    "def get_log(from_date, to_date, op_type = None):\n",
    "    from_date = datetime.datetime.strptime(from_date, '%Y-%m-%d %H:%M:%S')\n",
    "    to_date = datetime.datetime.strptime(to_date, '%Y-%m-%d %H:%M:%S')\n",
    "    result = []\n",
    "    log_files = get_files(ARCHIVE_FOLDER)\n",
    "    log_files.append(LOG_FILENAME)\n",
    "    \n",
    "    print(from_date.strftime(\"%Y%m%d\"))\n",
    "    \n",
    "    for log_file in log_files:\n",
    "        if (log_file == LOG_FILENAME) or (from_date <= date_from_filename(log_file) <= to_date):\n",
    "            file = open(log_file, 'r')\n",
    "            lines = file.readlines()\n",
    "            for line in lines:\n",
    "                line_tokens = line.split(\",\")\n",
    "                type = line_tokens[0]\n",
    "                date = datetime.datetime.strptime(line_tokens[1].removesuffix(\"\\n\"), '%Y-%m-%d %H:%M:%S')\n",
    "                if (from_date <= date <= to_date) and (op_type is None or op_type == type):\n",
    "                    result.append(line)\n",
    "    return result\n",
    "server.register_function(get_log, 'get_log')\n",
    "\n",
    "\n",
    "def date_from_filename(filename):\n",
    "    return datetime.datetime.strptime(filename.replace('_log.csv', '').replace(ARCHIVE_FOLDER + os.sep, ''), '%Y%m%d_%H%M%S')\n",
    "\n",
    "\n",
    "def save_file_to_archive(filename, folder, new_filename):\n",
    "    os.replace(filename, folder + os.sep + new_filename)\n",
    "\n",
    "\n",
    "def create_file(filename):\n",
    "    open(filename, 'w').close()\n",
    "\n",
    "\n",
    "def create_log_row(sname):\n",
    "    return str(sname) + ',' + datetime.datetime.now().strftime(\"%Y-%m-%d %H:%M:%S\") +'\\n'\n",
    "\n",
    "\n",
    "def append_to_log(filename, filerow):\n",
    "    f = open(filename,'a')\n",
    "    f.write(filerow)\n",
    "    f.close()\n",
    "    \n",
    "def get_files(folder):\n",
    "    result = []\n",
    "    for root, dirs, files in os.walk(folder):\n",
    "        for file in files:\n",
    "            result.append(folder + os.sep + file)\n",
    "    return result\n",
    "    \n",
    "\n",
    "print (\"Listening on port 8018...\")\n",
    "server.serve_forever()\n"
   ]
  },
  {
   "cell_type": "code",
   "execution_count": null,
   "metadata": {
    "is_executing": true
   },
   "outputs": [],
   "source": []
  },
  {
   "cell_type": "code",
   "execution_count": null,
   "outputs": [],
   "source": [],
   "metadata": {
    "collapsed": false,
    "is_executing": true
   }
  },
  {
   "cell_type": "code",
   "execution_count": null,
   "outputs": [],
   "source": [],
   "metadata": {
    "collapsed": false,
    "is_executing": true
   }
  },
  {
   "cell_type": "code",
   "execution_count": null,
   "outputs": [],
   "source": [],
   "metadata": {
    "collapsed": false,
    "is_executing": true
   }
  }
 ],
 "metadata": {
  "kernelspec": {
   "display_name": "Python 3 (ipykernel)",
   "language": "python",
   "name": "python3"
  },
  "language_info": {
   "codemirror_mode": {
    "name": "ipython",
    "version": 3
   },
   "file_extension": ".py",
   "mimetype": "text/x-python",
   "name": "python",
   "nbconvert_exporter": "python",
   "pygments_lexer": "ipython3",
   "version": "3.9.12"
  }
 },
 "nbformat": 4,
 "nbformat_minor": 2
}
